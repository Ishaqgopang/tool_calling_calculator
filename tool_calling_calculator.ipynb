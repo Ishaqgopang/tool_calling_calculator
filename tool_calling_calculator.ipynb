{
  "nbformat": 4,
  "nbformat_minor": 0,
  "metadata": {
    "colab": {
      "provenance": [],
      "authorship_tag": "ABX9TyNBaiI9/A2mCmktHYjjrG4Y",
      "include_colab_link": true
    },
    "kernelspec": {
      "name": "python3",
      "display_name": "Python 3"
    },
    "language_info": {
      "name": "python"
    }
  },
  "cells": [
    {
      "cell_type": "markdown",
      "metadata": {
        "id": "view-in-github",
        "colab_type": "text"
      },
      "source": [
        "<a href=\"https://colab.research.google.com/github/Ishaqgopang/tool_calling_calculator/blob/main/tool_calling_calculator.ipynb\" target=\"_parent\"><img src=\"https://colab.research.google.com/assets/colab-badge.svg\" alt=\"Open In Colab\"/></a>"
      ]
    },
    {
      "cell_type": "code",
      "execution_count": null,
      "metadata": {
        "id": "JatR0D6rx5JW",
        "colab": {
          "base_uri": "https://localhost:8080/"
        },
        "outputId": "d2640b3a-17b4-4345-8909-344a6fa3200f"
      },
      "outputs": [
        {
          "output_type": "stream",
          "name": "stdout",
          "text": [
            "\u001b[?25l   \u001b[90m━━━━━━━━━━━━━━━━━━━━━━━━━━━━━━━━━━━━━━━━\u001b[0m \u001b[32m0.0/41.5 kB\u001b[0m \u001b[31m?\u001b[0m eta \u001b[36m-:--:--\u001b[0m\r\u001b[2K   \u001b[90m━━━━━━━━━━━━━━━━━━━━━━━━━━━━━━━━━━━━━━━━\u001b[0m \u001b[32m41.5/41.5 kB\u001b[0m \u001b[31m1.8 MB/s\u001b[0m eta \u001b[36m0:00:00\u001b[0m\n",
            "\u001b[2K   \u001b[90m━━━━━━━━━━━━━━━━━━━━━━━━━━━━━━━━━━━━━━━━\u001b[0m \u001b[32m1.0/1.0 MB\u001b[0m \u001b[31m17.9 MB/s\u001b[0m eta \u001b[36m0:00:00\u001b[0m\n",
            "\u001b[2K   \u001b[90m━━━━━━━━━━━━━━━━━━━━━━━━━━━━━━━━━━━━━━━━\u001b[0m \u001b[32m411.6/411.6 kB\u001b[0m \u001b[31m22.5 MB/s\u001b[0m eta \u001b[36m0:00:00\u001b[0m\n",
            "\u001b[?25h"
          ]
        }
      ],
      "source": [
        "!pip install -U -q langchain-google-genai langchain"
      ]
    },
    {
      "cell_type": "code",
      "source": [
        "from google.colab import userdata\n",
        "GOOGLE_API_KEY=userdata.get('GOOGLE_API_KEY')"
      ],
      "metadata": {
        "id": "Tk2CWue2yP6q"
      },
      "execution_count": null,
      "outputs": []
    },
    {
      "cell_type": "code",
      "source": [
        "from langchain_core.tools import tool\n",
        "\n",
        "@tool\n",
        "def addition(a:int, b:int)->int:\n",
        "  \"\"\"adding two values\"\"\"\n",
        "  return a+b\n",
        "\n",
        "@tool\n",
        "def diffrence(a:int, b:int)->int:\n",
        "  \"\"\"minus the second value\"\"\"\n",
        "  return a-b\n",
        "\n",
        "@tool\n",
        "def multiply(a:int, b:int)->int:\n",
        "  \"\"\"Multiplying two values\"\"\"\n",
        "  return a*b\n",
        "\n",
        "@tool\n",
        "def divide(a:int, b:int)->float:\n",
        "  \"\"\"Dividing two values\"\"\"\n",
        "  return a/b"
      ],
      "metadata": {
        "id": "UxQvS-jUl89E"
      },
      "execution_count": null,
      "outputs": []
    },
    {
      "cell_type": "code",
      "source": [
        "tools = [addition, diffrence, multiply, divide]"
      ],
      "metadata": {
        "id": "cwRtZWJ7kY_1"
      },
      "execution_count": null,
      "outputs": []
    },
    {
      "cell_type": "code",
      "source": [
        "from langchain_google_genai import ChatGoogleGenerativeAI\n",
        "\n",
        "llm = ChatGoogleGenerativeAI(model=\"gemini-2.0-flash-exp\" , api_key=GOOGLE_API_KEY)"
      ],
      "metadata": {
        "id": "j0Qg-oOLjD4I"
      },
      "execution_count": null,
      "outputs": []
    },
    {
      "cell_type": "code",
      "source": [
        "from langchain.agents import initialize_agent , AgentType"
      ],
      "metadata": {
        "id": "HCmNAdHYjyIO"
      },
      "execution_count": null,
      "outputs": []
    },
    {
      "cell_type": "code",
      "source": [
        "agent = initialize_agent(tools, llm , agent= AgentType.STRUCTURED_CHAT_ZERO_SHOT_REACT_DESCRIPTION)"
      ],
      "metadata": {
        "id": "Tp4FVuSRkv2F"
      },
      "execution_count": null,
      "outputs": []
    },
    {
      "cell_type": "code",
      "source": [
        "response = agent.invoke(\"sixty plus ten\")\n",
        "response"
      ],
      "metadata": {
        "colab": {
          "base_uri": "https://localhost:8080/"
        },
        "id": "JWRCY7TYliHH",
        "outputId": "53971622-8491-4fbf-8ebb-36340a8f5142"
      },
      "execution_count": null,
      "outputs": [
        {
          "output_type": "execute_result",
          "data": {
            "text/plain": [
              "{'input': 'sixty plus ten', 'output': 'The answer is 70.'}"
            ]
          },
          "metadata": {},
          "execution_count": 26
        }
      ]
    }
  ]
}